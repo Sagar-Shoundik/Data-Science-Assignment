{
 "cells": [
  {
   "cell_type": "markdown",
   "id": "4d5c5f18-eb0b-40e9-896e-145b31ec9ab8",
   "metadata": {},
   "source": [
    "1. Write a program to accept percentage from the user and display the grade according to the following criteria:\n",
    "    Marks              Grade\n",
    "    >90                  A\n",
    "    >80 and <=90         B\n",
    "    >=60 and <=80        C\n",
    "    below 60             D"
   ]
  },
  {
   "cell_type": "code",
   "execution_count": 11,
   "id": "3e5f7264-0808-4ab6-a648-b4ffa4415f2b",
   "metadata": {},
   "outputs": [
    {
     "name": "stdin",
     "output_type": "stream",
     "text": [
      "Enter Percentage of marks 80\n"
     ]
    },
    {
     "name": "stdout",
     "output_type": "stream",
     "text": [
      "Grade C\n"
     ]
    }
   ],
   "source": [
    "## Program :-\n",
    "percent = float(input(\"Enter Percentage of marks\"))\n",
    "if percent > 90 :\n",
    "    print(\"Grade A\")\n",
    "elif percent > 80 and percent <= 90:\n",
    "    print(\"Grade B\")\n",
    "elif percent >= 60 and percent <= 80:\n",
    "    print(\"Grade C\")\n",
    "else:\n",
    "    print(\"Grade D\")"
   ]
  },
  {
   "cell_type": "raw",
   "id": "82ca82c9-6159-4a34-b1ce-ec26e237e6ae",
   "metadata": {},
   "source": []
  },
  {
   "cell_type": "markdown",
   "id": "4cd64a10-3798-4494-b639-c5428bf1eb49",
   "metadata": {},
   "source": [
    "2. Write a program to accept the cost price of a bike and display the road tax to be paid according to the following criteria:\n",
    "    TAX               Cost Price (in Rs)\n",
    "    15%                   >100000\n",
    "    10%              >50000 and <= 100000\n",
    "    5%                    <50000"
   ]
  },
  {
   "cell_type": "code",
   "execution_count": 15,
   "id": "2850dfbf-0527-4ce9-b8c2-9f69da68a70d",
   "metadata": {},
   "outputs": [
    {
     "name": "stdin",
     "output_type": "stream",
     "text": [
      "Enter Cost Price of bike in RS 44000\n"
     ]
    },
    {
     "name": "stdout",
     "output_type": "stream",
     "text": [
      "You'll have to pay a tax of amount  2200.0 Rs\n"
     ]
    }
   ],
   "source": [
    "cp = int(input(\"Enter Cost Price of bike in RS\"))\n",
    "if cp > 100000:\n",
    "    tax = cp * 15/100\n",
    "elif cp <= 100000 and cp >50000:\n",
    "    tax = cp * 10/100\n",
    "else:\n",
    "    tax = cp * 5/100\n",
    "print(\"You'll have to pay a tax of amount \",tax,\"Rs\" )"
   ]
  },
  {
   "cell_type": "raw",
   "id": "0d4d3d55-b629-4a27-81af-c021fbd7beeb",
   "metadata": {},
   "source": []
  },
  {
   "cell_type": "markdown",
   "id": "8db39814-3290-49b6-8c89-990fc00fc13f",
   "metadata": {},
   "source": [
    "3. Accept any city from the user and display the monuments of the city.\n",
    "       City                   Monument\n",
    "       Delhi                  Red Fort\n",
    "       Agra                   Taj Mahal\n",
    "       Jaipur                 Jai Mahal"
   ]
  },
  {
   "cell_type": "code",
   "execution_count": 19,
   "id": "6b1cb2e0-06d4-49c6-ba22-29244d6c6f4a",
   "metadata": {},
   "outputs": [
    {
     "name": "stdin",
     "output_type": "stream",
     "text": [
      "Enter name of the city: Agra\n"
     ]
    },
    {
     "data": {
      "text/plain": [
       "'Taj Mahal'"
      ]
     },
     "execution_count": 19,
     "metadata": {},
     "output_type": "execute_result"
    }
   ],
   "source": [
    "city_dict = {\"delhi\":\"Red Fort\",\"agra\":\"Taj Mahal\",\"jaipur\":\"Jai Mahal\"}\n",
    "city = input(\"Enter name of the city:\")\n",
    "city_dict[city.lower()]"
   ]
  },
  {
   "cell_type": "raw",
   "id": "134f5997-b0ab-431c-aab4-9d3e57f709a6",
   "metadata": {},
   "source": []
  },
  {
   "cell_type": "markdown",
   "id": "09cfc541-9f88-4845-9df2-5667d8f56ec1",
   "metadata": {},
   "source": [
    "4. Check how many times a given number can be divided by 3 before it is less than or equal to 10."
   ]
  },
  {
   "cell_type": "code",
   "execution_count": null,
   "id": "dad5447e-5e36-4fe1-825f-7e44b6aa3fef",
   "metadata": {},
   "outputs": [
    {
     "name": "stdin",
     "output_type": "stream",
     "text": [
      "Input a number: 999\n"
     ]
    },
    {
     "name": "stdout",
     "output_type": "stream",
     "text": [
      "The given number can be divided by 3 for  5  times before it is less than or equal to 10\n"
     ]
    }
   ],
   "source": [
    "number = int(input(\"Input a number:\"))\n",
    "count = 0\n",
    "while number >= 10:\n",
    "    number = number / 3\n",
    "    count = count + 1\n",
    "print(\"The given number can be divided by 3 for \",count,\" times before it is less than or equal to 10\")"
   ]
  },
  {
   "cell_type": "raw",
   "id": "1c3758ac-5095-4448-8066-5839f1b3bfe0",
   "metadata": {},
   "source": []
  },
  {
   "cell_type": "markdown",
   "id": "aadcf719-b345-4b35-8d48-599a67f363e0",
   "metadata": {},
   "source": [
    "5. Why and when to use while loop in Python give a detailed description with example."
   ]
  },
  {
   "cell_type": "code",
   "execution_count": null,
   "id": "d3632eaf-5ea9-4577-a9e9-251604539d4d",
   "metadata": {},
   "outputs": [],
   "source": [
    "Why :- Python While Loop is used to execute a block of statements repeatedly until a given condition is satisfied. And when the condition becomes false, the line immediately after the loop in the program is executed.\n",
    "When :- If we don't have a tidy data structure to iterate through, or we don't have a generator function that drives our processing, we must use while. It's used when number of iterations is unknown. It runs it's statement for a given true condition.\n",
    "while loop :- \n",
    "A while loop will run a piece of code while a condition is True. It will keep executing the desired set of code statements until that condition is no longer True.\n",
    "A while loop will always first check the condition before running.\n",
    "If the condition evaluates to True then the loop will run the code within the loop's body.\n",
    "\n",
    "For example the below while loop will run as long as the number is less than 0-"
   ]
  },
  {
   "cell_type": "code",
   "execution_count": 1,
   "id": "198306f5-5049-4bd6-8271-5e84cb4fd13b",
   "metadata": {},
   "outputs": [
    {
     "name": "stdout",
     "output_type": "stream",
     "text": [
      "0\n",
      "1\n",
      "2\n",
      "3\n",
      "4\n",
      "5\n",
      "6\n",
      "7\n",
      "8\n",
      "9\n"
     ]
    }
   ],
   "source": [
    "## Example While loop\n",
    "i = 0\n",
    "while i < 10:\n",
    "    print(i)\n",
    "    i = i + 1"
   ]
  },
  {
   "cell_type": "code",
   "execution_count": null,
   "id": "9eaf9f05-63d6-4d49-8124-d1282b27ebc6",
   "metadata": {},
   "outputs": [],
   "source": []
  },
  {
   "cell_type": "markdown",
   "id": "1eabb71d-7853-4c74-bf41-4650bccee5a1",
   "metadata": {},
   "source": [
    "6. Use nested while loop to print 3 different pattern."
   ]
  },
  {
   "cell_type": "code",
   "execution_count": 11,
   "id": "3f633b02-7f3a-4699-a2ee-8c6d8ebc88ee",
   "metadata": {},
   "outputs": [
    {
     "name": "stdout",
     "output_type": "stream",
     "text": [
      "* \n",
      "* * \n",
      "* * * \n",
      "* * * * \n",
      "* * * * * \n"
     ]
    }
   ],
   "source": [
    "# Pyramid using *\n",
    "n = 5\n",
    "i , j = 1 , 1\n",
    "while i <= n:\n",
    "    while j <= i:\n",
    "        print(\"* \", end = \"\")\n",
    "        j = j + 1\n",
    "    \n",
    "    print(\"\\r\")\n",
    "    j = 1\n",
    "    i = i + 1"
   ]
  },
  {
   "cell_type": "code",
   "execution_count": null,
   "id": "ec898451-e85e-4951-80e9-57920478f4d6",
   "metadata": {},
   "outputs": [],
   "source": [
    "# Horizontally filpped Pyramid using *\n",
    "rows = 5\n",
    "i = 1\n",
    "while i <= rows:\n",
    "    j = i\n",
    "    while j < rows:\n",
    "        # display space\n",
    "        print(' ', end=' ')\n",
    "        j += 1\n",
    "    k = 1\n",
    "    while k <= i:\n",
    "        print('*', end=' ')\n",
    "        k += 1\n",
    "    print()\n",
    "    i += 1"
   ]
  },
  {
   "cell_type": "code",
   "execution_count": null,
   "id": "54a231a1-dacd-4efd-ac70-88504d3b3c6e",
   "metadata": {},
   "outputs": [],
   "source": [
    "# Vertically flipped Pyramid using *\n",
    "n = 5 \n",
    "i = 1\n",
    "while i <= n :\n",
    "    j = n\n",
    "    while j >= i:\n",
    "        print(\"*\", end = \" \")\n",
    "        j -= 1\n",
    "    print()\n",
    "    i += 1"
   ]
  },
  {
   "cell_type": "code",
   "execution_count": null,
   "id": "871b2c07-d2a7-483f-99c1-a3c4ef01da27",
   "metadata": {},
   "outputs": [],
   "source": []
  },
  {
   "cell_type": "markdown",
   "id": "a956f7c5-d3c7-40bc-9aa0-d43e2694c029",
   "metadata": {},
   "source": [
    "7. Reverse a while loop to display numbers from 10 to 1."
   ]
  },
  {
   "cell_type": "code",
   "execution_count": null,
   "id": "d5312231-456b-4f4b-961c-0e4a83ed89f7",
   "metadata": {},
   "outputs": [],
   "source": [
    "i = 10\n",
    "while i > 0:\n",
    "    print(i)\n",
    "    i = i - 1"
   ]
  },
  {
   "cell_type": "code",
   "execution_count": null,
   "id": "69a049f5-8ed8-4404-8998-1df9155ceeb3",
   "metadata": {},
   "outputs": [],
   "source": []
  },
  {
   "cell_type": "markdown",
   "id": "6ce99ab0-a46b-42aa-96de-6b3f993ef7d5",
   "metadata": {},
   "source": [
    "8. Reverse a while loop to display numbers from 10 to 1."
   ]
  },
  {
   "cell_type": "code",
   "execution_count": null,
   "id": "e5b97fec-9667-44f4-8070-e4c3246ffe9a",
   "metadata": {},
   "outputs": [],
   "source": [
    "i = 10\n",
    "while i > 0:\n",
    "    print(i)\n",
    "    i = i - 1"
   ]
  }
 ],
 "metadata": {
  "kernelspec": {
   "display_name": "Python 3 (ipykernel)",
   "language": "python",
   "name": "python3"
  },
  "language_info": {
   "codemirror_mode": {
    "name": "ipython",
    "version": 3
   },
   "file_extension": ".py",
   "mimetype": "text/x-python",
   "name": "python",
   "nbconvert_exporter": "python",
   "pygments_lexer": "ipython3",
   "version": "3.10.8"
  }
 },
 "nbformat": 4,
 "nbformat_minor": 5
}
