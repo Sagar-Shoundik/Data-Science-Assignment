{
 "cells": [
  {
   "cell_type": "code",
   "execution_count": null,
   "id": "e96a4d57-cd1f-49cf-aba8-01a436136940",
   "metadata": {},
   "outputs": [],
   "source": [
    "1. Create a vehicle class with an init method having instance variables as name_of_vehicle, max_speed\n",
    "and average_of_vehicle."
   ]
  },
  {
   "cell_type": "code",
   "execution_count": 56,
   "id": "422b5343-6acb-4c23-9972-f18d2f3e25f7",
   "metadata": {},
   "outputs": [],
   "source": [
    "class vehicle:\n",
    "    def __init__(self, name_of_vehicle, max_speed, average_speed):\n",
    "        self.name_of_vehicle = name_of_vehicle\n",
    "        self.max_speed = max_speed\n",
    "        self.average_speed = average_speed\n",
    "        \n",
    "    def show_details(self):\n",
    "        return f\"Name: {self.name_of_vehicle}, Max Speed: {self.max_speed}, Average Speed: {self.average_speed}\""
   ]
  },
  {
   "cell_type": "code",
   "execution_count": 63,
   "id": "eeb51606-da18-4890-b038-7365324b2c27",
   "metadata": {},
   "outputs": [
    {
     "name": "stdout",
     "output_type": "stream",
     "text": [
      "Name: Altroz, Max Speed: 200, Average Speed: 75\n"
     ]
    }
   ],
   "source": [
    "my_car = vehicle(\"Altroz\", 200, 75)\n",
    "print(my_car.show_details())"
   ]
  },
  {
   "cell_type": "code",
   "execution_count": null,
   "id": "916089ab-d17f-4f03-b19f-9449d3f706b0",
   "metadata": {},
   "outputs": [],
   "source": []
  },
  {
   "cell_type": "code",
   "execution_count": null,
   "id": "08e5f865-078b-4ccc-a701-75923abc33bd",
   "metadata": {},
   "outputs": [],
   "source": [
    "2. Create a child class car from the vehicle class created in Que 1, which will inherit the vehicle class.\n",
    "Create a method named seating_capacity which takes capacity as an argument and returns the name of the vehicle and its seating capacity."
   ]
  },
  {
   "cell_type": "code",
   "execution_count": 59,
   "id": "f54c27b7-9c44-4fb6-825c-1a197d1dee2f",
   "metadata": {},
   "outputs": [],
   "source": [
    "class car(vehicle):\n",
    "    def __init__(self, name_of_vehicle, max_speed, average_speed):\n",
    "        super().__init__(name_of_vehicle, max_speed, average_speed)\n",
    "        \n",
    "    def seating_capacity(self, capacity):\n",
    "        return f\"Name: {self.name_of_vehicle}, Capacity: {capacity}\""
   ]
  },
  {
   "cell_type": "code",
   "execution_count": 61,
   "id": "5acc0296-b96a-4ccd-a349-acf43b974112",
   "metadata": {},
   "outputs": [
    {
     "name": "stdout",
     "output_type": "stream",
     "text": [
      "Name: Altroz, Max Speed: 200, Average Speed: 75\n",
      "Name: Altroz, Capacity: 5\n"
     ]
    }
   ],
   "source": [
    "my_car = car(\"Altroz\", 200, 75)\n",
    "print(my_car.show_details())\n",
    "print(my_car.seating_capacity(5))"
   ]
  },
  {
   "cell_type": "code",
   "execution_count": null,
   "id": "271a4b8c-1aa9-41e0-8769-8d25b73de384",
   "metadata": {},
   "outputs": [],
   "source": []
  },
  {
   "cell_type": "code",
   "execution_count": null,
   "id": "c502eab5-3174-4139-9f18-04ecf1b5c6bf",
   "metadata": {},
   "outputs": [],
   "source": [
    "3. What is multiple inheritance? Write a python code to demonstrate multiple inheritance."
   ]
  },
  {
   "cell_type": "code",
   "execution_count": null,
   "id": "949ee830-52f2-415a-a31b-58641084a521",
   "metadata": {},
   "outputs": [],
   "source": [
    "Multiple inheritance is a feature of Object-Oriented programming language in which a child class can inherit from multiple parent classes. \n",
    "In Python, we can create a subclass that inherits from multiple parent classes by specifying all the parent classes in the subclass definition.\n",
    "\n",
    "in the below example 'A','B' & 'C' are three classes. methodA, methodB & methodC are defined in classes 'A','B' & 'C' respectively. And 'C' inherits from 'A'&'B' both."
   ]
  },
  {
   "cell_type": "code",
   "execution_count": 66,
   "id": "85b8dc53-03bb-44d2-aaab-f6e979e626d5",
   "metadata": {},
   "outputs": [],
   "source": [
    "class A:\n",
    "    def methodA(self):\n",
    "        print(\"This is method of class A\")\n",
    "    \n",
    "class B:\n",
    "    def methodB(self):\n",
    "        print(\"This is method of class B\")\n",
    "\n",
    "class C(A , B):\n",
    "    def methodC(self):\n",
    "        print(\"This is method of class C\")"
   ]
  },
  {
   "cell_type": "code",
   "execution_count": 67,
   "id": "02d5f494-2903-4d9a-985d-3b0bf4bcbbe6",
   "metadata": {},
   "outputs": [
    {
     "name": "stdout",
     "output_type": "stream",
     "text": [
      "This is method of class A\n",
      "This is method of class B\n",
      "This is method of class C\n"
     ]
    }
   ],
   "source": [
    "obj = C()\n",
    "obj.methodA()\n",
    "obj.methodB()\n",
    "obj.methodC()"
   ]
  },
  {
   "cell_type": "code",
   "execution_count": null,
   "id": "7d5043ba-d741-44ad-b314-1ad224caa35b",
   "metadata": {},
   "outputs": [],
   "source": []
  },
  {
   "cell_type": "code",
   "execution_count": null,
   "id": "b275e87c-c3ca-4306-b348-c769f160c3f0",
   "metadata": {},
   "outputs": [],
   "source": [
    "4. What are getter and setter in python? Create a class and create a getter and a setter method in this\n",
    "class."
   ]
  },
  {
   "cell_type": "code",
   "execution_count": null,
   "id": "f628189d-0dc8-418e-97a9-4984b90042d6",
   "metadata": {},
   "outputs": [],
   "source": [
    "In Python, getter and setter are methods that allow us to access and modify the values of attributes in a class. Getters are used to retrieve the value of an attribute, and setters are used to change the value of an attribute.\n",
    "This is a way of enforcing encapsulation and data hiding in classes.\n",
    "Example:- "
   ]
  },
  {
   "cell_type": "code",
   "execution_count": 73,
   "id": "a39cee43-1d35-4636-af42-7cb3a7382b84",
   "metadata": {},
   "outputs": [],
   "source": [
    "class Student:\n",
    "    def __init__(self, name, age):\n",
    "        self.__name = name\n",
    "        self.__age = age\n",
    "        \n",
    "    def set_name(self, name):\n",
    "        self.__name = name\n",
    "    \n",
    "    def get_name(self):\n",
    "        return self.__name\n",
    "    \n",
    "    def set_age(self, age):\n",
    "        self.__age = age\n",
    "    \n",
    "    def get_age(self):\n",
    "        return self.__age"
   ]
  },
  {
   "cell_type": "code",
   "execution_count": 75,
   "id": "b9aa1e52-24e4-41fa-b8db-a3527132441b",
   "metadata": {},
   "outputs": [
    {
     "name": "stdout",
     "output_type": "stream",
     "text": [
      "Sagar\n",
      "21\n"
     ]
    }
   ],
   "source": [
    "student = Student(\"Sagar\",21)\n",
    "print(student.get_name())\n",
    "print(student.get_age())"
   ]
  },
  {
   "cell_type": "code",
   "execution_count": 76,
   "id": "9f5e66d1-fabb-43c6-a4af-88800e011ab8",
   "metadata": {},
   "outputs": [
    {
     "data": {
      "text/plain": [
       "22"
      ]
     },
     "execution_count": 76,
     "metadata": {},
     "output_type": "execute_result"
    }
   ],
   "source": [
    "student.set_age(22)\n",
    "student.get_age()"
   ]
  },
  {
   "cell_type": "code",
   "execution_count": null,
   "id": "32e4746f-0af6-43d0-a47b-2dadb6db9098",
   "metadata": {},
   "outputs": [],
   "source": []
  },
  {
   "cell_type": "code",
   "execution_count": null,
   "id": "f515d442-0337-4946-b956-debc86f6246f",
   "metadata": {},
   "outputs": [],
   "source": [
    "5.What is method overriding in python? Write a python code to demonstrate method overriding."
   ]
  },
  {
   "cell_type": "code",
   "execution_count": null,
   "id": "a2b2dd4b-2346-40d0-ac87-c8e592fb8880",
   "metadata": {},
   "outputs": [],
   "source": [
    "Method overriding is a feature of object-oriented programming that allows a subclass to provide a different implementation of a method that is already defined in the superclass.\n",
    "This can be useful when we want to customize the behaviour of a method for a particular subclass.\n",
    "\n",
    "In Python, we can override a method in a subclass by defining a new method with the same name as the method we want to override. The new method should have the same arguments as the original method.\n",
    "Example:-"
   ]
  },
  {
   "cell_type": "code",
   "execution_count": 77,
   "id": "f77695fe-e6f4-4bb6-a68f-cceb3f8eb197",
   "metadata": {},
   "outputs": [
    {
     "name": "stdout",
     "output_type": "stream",
     "text": [
      "The dog barks\n",
      "The cat meows\n"
     ]
    }
   ],
   "source": [
    "class Animal:\n",
    "    def sounds(self):\n",
    "        print(\"The animal makes sound\")\n",
    "        \n",
    "class Dog(Animal):\n",
    "    def sounds(self):\n",
    "        print(\"The dog barks\")\n",
    "        \n",
    "class Cat(Animal):\n",
    "    def sounds(self):\n",
    "        print(\"The cat meows\")\n",
    "        \n",
    "dog = Dog()\n",
    "cat = Cat()\n",
    "dog.sounds()\n",
    "cat.sounds()"
   ]
  },
  {
   "cell_type": "code",
   "execution_count": null,
   "id": "1770168e-53bf-474c-990d-8a6d9cc17d53",
   "metadata": {},
   "outputs": [],
   "source": []
  }
 ],
 "metadata": {
  "kernelspec": {
   "display_name": "Python 3 (ipykernel)",
   "language": "python",
   "name": "python3"
  },
  "language_info": {
   "codemirror_mode": {
    "name": "ipython",
    "version": 3
   },
   "file_extension": ".py",
   "mimetype": "text/x-python",
   "name": "python",
   "nbconvert_exporter": "python",
   "pygments_lexer": "ipython3",
   "version": "3.10.8"
  }
 },
 "nbformat": 4,
 "nbformat_minor": 5
}
