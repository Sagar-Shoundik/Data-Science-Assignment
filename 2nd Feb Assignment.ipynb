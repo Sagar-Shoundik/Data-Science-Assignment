{
 "cells": [
  {
   "cell_type": "markdown",
   "id": "38abf554-7e5b-403d-8b9c-36edf4d4a11e",
   "metadata": {},
   "source": [
    "1. Explain with example of each when to use a for loop and a while loop."
   ]
  },
  {
   "cell_type": "code",
   "execution_count": null,
   "id": "ff4e95a4-ec52-40ae-9108-ea8c2826c513",
   "metadata": {},
   "outputs": [],
   "source": [
    "for loop :- \n",
    "A for loop is a control flow statement that executes code for a predefined number of iterations. When the number of iterations is already knownn, for loop is used.\n",
    "Example : To print all of the elements of l list,"
   ]
  },
  {
   "cell_type": "code",
   "execution_count": 4,
   "id": "fdf4ea20-003c-4ead-9b39-a062be2aa386",
   "metadata": {},
   "outputs": [
    {
     "name": "stdout",
     "output_type": "stream",
     "text": [
      "List elements are:\n",
      "10\n",
      "20\n",
      "30\n",
      "40\n",
      "50\n",
      "60\n",
      "70\n",
      "80\n",
      "90\n",
      "100\n"
     ]
    }
   ],
   "source": [
    "## for loop\n",
    "l = [10,20,30,40,50,60,70,80,90,100]\n",
    "print(\"List elements are:\")\n",
    "for i in l:\n",
    "    print(i)"
   ]
  },
  {
   "cell_type": "code",
   "execution_count": null,
   "id": "016b33de-58ec-4e8f-b167-45f5833a8be1",
   "metadata": {},
   "outputs": [],
   "source": [
    "while loop :- A while loop runs a single statement or a set of statements for a given true conditions. It is used when the number of iterations isn't known.\n",
    "Example : To print numbers less than a finite limit."
   ]
  },
  {
   "cell_type": "code",
   "execution_count": 9,
   "id": "5a310f20-e533-419b-9210-1e14003a58f5",
   "metadata": {},
   "outputs": [
    {
     "name": "stdout",
     "output_type": "stream",
     "text": [
      "1\n",
      "2\n",
      "3\n",
      "4\n",
      "5\n",
      "6\n",
      "7\n",
      "8\n",
      "9\n",
      "10\n"
     ]
    }
   ],
   "source": [
    "## while loop\n",
    "i = 1\n",
    "while i <=10:\n",
    "    print(i)\n",
    "    i += 1"
   ]
  },
  {
   "cell_type": "code",
   "execution_count": null,
   "id": "bc9553e7-9959-4dfd-8f67-1c00e1a7a0ea",
   "metadata": {},
   "outputs": [],
   "source": []
  },
  {
   "cell_type": "markdown",
   "id": "a3a98242-103a-4ee2-bdeb-b4cbef15eafe",
   "metadata": {},
   "source": [
    "2. Write a program to print the sum and product of the first 10 natural numbers using for and while loop."
   ]
  },
  {
   "cell_type": "code",
   "execution_count": 15,
   "id": "0d633e2b-17ed-420a-976b-1b67b7c0a3ad",
   "metadata": {},
   "outputs": [
    {
     "name": "stdout",
     "output_type": "stream",
     "text": [
      "Sum of 1st 10 Natural number =  55\n",
      "Product of 1st 10 Natural number =  3628800\n"
     ]
    }
   ],
   "source": [
    "## While loop\n",
    "n , s , p = 1 , 0 , 1\n",
    "while n <= 10:\n",
    "    s = s + n\n",
    "    p = p * n\n",
    "    n = n + 1\n",
    "print(\"Sum of 1st 10 Natural number = \",s)\n",
    "print(\"Product of 1st 10 Natural number = \",p)"
   ]
  },
  {
   "cell_type": "code",
   "execution_count": 18,
   "id": "7d622535-878c-4ef4-8872-05267e933e2d",
   "metadata": {},
   "outputs": [
    {
     "name": "stdout",
     "output_type": "stream",
     "text": [
      "Sum of 1st 10 Natural number =  55\n",
      "Product of 1st 10 Natural number =  3628800\n"
     ]
    }
   ],
   "source": [
    "## for loop\n",
    "s , p = 0 , 1\n",
    "for i in range(1,11):\n",
    "    s = s + i\n",
    "    p = p * i\n",
    "print(\"Sum of 1st 10 Natural number = \",s)\n",
    "print(\"Product of 1st 10 Natural number = \",p)"
   ]
  },
  {
   "cell_type": "code",
   "execution_count": null,
   "id": "8a9eb31d-b8e8-4853-9e2a-e387800327f4",
   "metadata": {},
   "outputs": [],
   "source": []
  },
  {
   "cell_type": "markdown",
   "id": "c20e353e-c7de-453b-a095-6d17429f963c",
   "metadata": {},
   "source": [
    "3. Create a python program to complete the electricity bill for a household."
   ]
  },
  {
   "cell_type": "code",
   "execution_count": 5,
   "id": "c6b5c517-fe32-460a-9c7c-9026b86f83c9",
   "metadata": {},
   "outputs": [
    {
     "name": "stdin",
     "output_type": "stream",
     "text": [
      "Enter unit consumed 90\n"
     ]
    },
    {
     "name": "stdout",
     "output_type": "stream",
     "text": [
      "Total Payable amount is Rs 405.0\n"
     ]
    }
   ],
   "source": [
    "unit = float(input(\"Enter unit consumed\"))\n",
    "if unit <= 100:\n",
    "    amount = unit * 4.5\n",
    "elif unit <= 200 and unit > 100:\n",
    "    amount = unit * 6\n",
    "elif unit <= 300 and unit > 200:\n",
    "    amount = unit * 10\n",
    "else:\n",
    "    amount = unit * 20\n",
    "print(\"Total Payable amount is Rs\",amount)"
   ]
  },
  {
   "cell_type": "code",
   "execution_count": null,
   "id": "bfc9a3b8-e104-4534-ab60-8ec3a28c98d9",
   "metadata": {},
   "outputs": [],
   "source": []
  },
  {
   "cell_type": "markdown",
   "id": "aed91b48-5f33-4d44-bc6f-3a4c03e71a9f",
   "metadata": {},
   "source": [
    "4. Create a list of numbers from 1 to 100. Use for loop and while loop to calculate the cube of each number and if the cube of that number is divisible by 4 or 5 then append that number in a list and print that list."
   ]
  },
  {
   "cell_type": "code",
   "execution_count": 19,
   "id": "a4e15fef-e817-4cd2-a3a7-6e356485373f",
   "metadata": {},
   "outputs": [
    {
     "data": {
      "text/plain": [
       "[2,\n",
       " 4,\n",
       " 5,\n",
       " 6,\n",
       " 8,\n",
       " 10,\n",
       " 12,\n",
       " 14,\n",
       " 15,\n",
       " 16,\n",
       " 18,\n",
       " 20,\n",
       " 22,\n",
       " 24,\n",
       " 25,\n",
       " 26,\n",
       " 28,\n",
       " 30,\n",
       " 32,\n",
       " 34,\n",
       " 35,\n",
       " 36,\n",
       " 38,\n",
       " 40,\n",
       " 42,\n",
       " 44,\n",
       " 45,\n",
       " 46,\n",
       " 48,\n",
       " 50,\n",
       " 52,\n",
       " 54,\n",
       " 55,\n",
       " 56,\n",
       " 58,\n",
       " 60,\n",
       " 62,\n",
       " 64,\n",
       " 65,\n",
       " 66,\n",
       " 68,\n",
       " 70,\n",
       " 72,\n",
       " 74,\n",
       " 75,\n",
       " 76,\n",
       " 78,\n",
       " 80,\n",
       " 82,\n",
       " 84,\n",
       " 85,\n",
       " 86,\n",
       " 88,\n",
       " 90,\n",
       " 92,\n",
       " 94,\n",
       " 95,\n",
       " 96,\n",
       " 98,\n",
       " 100]"
      ]
     },
     "execution_count": 19,
     "metadata": {},
     "output_type": "execute_result"
    }
   ],
   "source": [
    "# creating initial list\n",
    "list_num = []\n",
    "for i in range(1,101):\n",
    "    list_num.append(i)\n",
    "\n",
    "# Appending the eligible cubes to the list\n",
    "list_cube = []\n",
    "for i in list_num:\n",
    "    cube = i**3\n",
    "    if cube % 4 == 0 or cube % 5 == 0 :\n",
    "        list_cube.append(i)\n",
    "list_cube"
   ]
  },
  {
   "cell_type": "code",
   "execution_count": 1,
   "id": "71a4d6a4-d752-44ba-b4af-8465d4838ccb",
   "metadata": {},
   "outputs": [
    {
     "data": {
      "text/plain": [
       "[2,\n",
       " 4,\n",
       " 5,\n",
       " 6,\n",
       " 8,\n",
       " 10,\n",
       " 12,\n",
       " 14,\n",
       " 15,\n",
       " 16,\n",
       " 18,\n",
       " 20,\n",
       " 22,\n",
       " 24,\n",
       " 25,\n",
       " 26,\n",
       " 28,\n",
       " 30,\n",
       " 32,\n",
       " 34,\n",
       " 35,\n",
       " 36,\n",
       " 38,\n",
       " 40,\n",
       " 42,\n",
       " 44,\n",
       " 45,\n",
       " 46,\n",
       " 48,\n",
       " 50,\n",
       " 52,\n",
       " 54,\n",
       " 55,\n",
       " 56,\n",
       " 58,\n",
       " 60,\n",
       " 62,\n",
       " 64,\n",
       " 65,\n",
       " 66,\n",
       " 68,\n",
       " 70,\n",
       " 72,\n",
       " 74,\n",
       " 75,\n",
       " 76,\n",
       " 78,\n",
       " 80,\n",
       " 82,\n",
       " 84,\n",
       " 85,\n",
       " 86,\n",
       " 88,\n",
       " 90,\n",
       " 92,\n",
       " 94,\n",
       " 95,\n",
       " 96,\n",
       " 98,\n",
       " 100]"
      ]
     },
     "execution_count": 1,
     "metadata": {},
     "output_type": "execute_result"
    }
   ],
   "source": [
    "# creating initial list\n",
    "list_num = []\n",
    "i = 1\n",
    "while i <= 100:\n",
    "    list_num.append(i)\n",
    "    i = i + 1\n",
    "# Appending the eligible cubes to the list\n",
    "list_cube = []\n",
    "i = 1\n",
    "while i <= len(list_num):\n",
    "    cube = i**3\n",
    "    if cube % 4 == 0 or cube % 5 == 0 :\n",
    "        list_cube.append(i)\n",
    "    i = i + 1\n",
    "list_cube"
   ]
  },
  {
   "cell_type": "code",
   "execution_count": null,
   "id": "0b7927dd-536a-4bde-b6fc-8259cc850df0",
   "metadata": {},
   "outputs": [],
   "source": [
    "\n"
   ]
  },
  {
   "cell_type": "markdown",
   "id": "013f29ec-2328-4cec-a623-125d810f3a10",
   "metadata": {},
   "source": [
    "5. Write a program to filter count vowels in the below-given string.\n",
    "    string = \"I want to become a data scientist\""
   ]
  },
  {
   "cell_type": "code",
   "execution_count": 3,
   "id": "a4570330-9af6-45ce-bcc3-3b6119757d46",
   "metadata": {},
   "outputs": [
    {
     "name": "stdout",
     "output_type": "stream",
     "text": [
      "12\n"
     ]
    }
   ],
   "source": [
    "string  = \"I want to become a data scientist\"\n",
    "count = 0\n",
    "for i in string:\n",
    "    if i == 'a' or i == 'A' or i == 'e' or i == 'E' or i == 'i' or i == 'I' or i == 'o' or i == 'O' or i == 'u' or i == 'U' :\n",
    "        count = count + 1\n",
    "print(count)"
   ]
  },
  {
   "cell_type": "code",
   "execution_count": null,
   "id": "7d8b75fd-78fe-4047-bc9a-91ff3a8922f7",
   "metadata": {},
   "outputs": [],
   "source": []
  }
 ],
 "metadata": {
  "kernelspec": {
   "display_name": "Python 3 (ipykernel)",
   "language": "python",
   "name": "python3"
  },
  "language_info": {
   "codemirror_mode": {
    "name": "ipython",
    "version": 3
   },
   "file_extension": ".py",
   "mimetype": "text/x-python",
   "name": "python",
   "nbconvert_exporter": "python",
   "pygments_lexer": "ipython3",
   "version": "3.10.8"
  }
 },
 "nbformat": 4,
 "nbformat_minor": 5
}
