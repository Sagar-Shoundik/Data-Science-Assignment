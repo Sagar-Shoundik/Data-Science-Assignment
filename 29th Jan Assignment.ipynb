{
 "cells": [
  {
   "cell_type": "code",
   "execution_count": null,
   "id": "77e596ee-da77-4f1c-9bc3-114ee9cee706",
   "metadata": {},
   "outputs": [],
   "source": [
    "1. Guido Van Rossum developed the Python Programming Language. It was first released in 1991 as Python 0.9.0."
   ]
  },
  {
   "cell_type": "code",
   "execution_count": null,
   "id": "f79b52cb-bdcc-4a89-8a48-e6bb0015937f",
   "metadata": {},
   "outputs": [],
   "source": [
    "2. Python fully supports Structured programming as well as Object-Oriented Programming."
   ]
  },
  {
   "cell_type": "code",
   "execution_count": null,
   "id": "26dcef57-36bd-4ce8-bd55-b4c3184d4dd3",
   "metadata": {},
   "outputs": [],
   "source": [
    "3. Yes Python is Case sensitive programming language."
   ]
  },
  {
   "cell_type": "code",
   "execution_count": null,
   "id": "c8b956e0-6e49-46c4-b527-84618402140f",
   "metadata": {},
   "outputs": [],
   "source": [
    "4. .py is the extension of a python file."
   ]
  },
  {
   "cell_type": "code",
   "execution_count": null,
   "id": "fa1f1209-9e14-4523-a7e1-93969b2d0d0d",
   "metadata": {},
   "outputs": [],
   "source": [
    "5. Python code is interpreted. (ie. Source code is converted into bytecode)."
   ]
  },
  {
   "cell_type": "code",
   "execution_count": null,
   "id": "c8a21eb5-b8c3-4394-95d2-5f507682c84b",
   "metadata": {},
   "outputs": [],
   "source": [
    "6. A module, function body and class definations are s"
   ]
  },
  {
   "cell_type": "code",
   "execution_count": null,
   "id": "efd409d9-061f-4dd5-8a07-daea07705c8e",
   "metadata": {},
   "outputs": [],
   "source": [
    "7. The \"#\" character is used to define a single line comment."
   ]
  },
  {
   "cell_type": "code",
   "execution_count": null,
   "id": "314c814a-ce6c-4873-b140-ee21694dfa8d",
   "metadata": {},
   "outputs": [],
   "source": [
    "8. sys.version() & python_version()."
   ]
  },
  {
   "cell_type": "code",
   "execution_count": null,
   "id": "26e3cc88-a367-450f-b715-854fb322e56a",
   "metadata": {},
   "outputs": [],
   "source": [
    "9. Python supports the creation of anonymous functions at runtime, using a construct called 'lambda'."
   ]
  },
  {
   "cell_type": "code",
   "execution_count": null,
   "id": "f1659f92-8f8c-4eb7-89f8-d3070bca022d",
   "metadata": {},
   "outputs": [],
   "source": [
    "10. PIP stands for 'preferred installer program', which is used to install and manage software packages\n",
    "    written in python language."
   ]
  },
  {
   "cell_type": "code",
   "execution_count": null,
   "id": "87deb976-1658-45a5-a8a1-4da0ad58f808",
   "metadata": {},
   "outputs": [],
   "source": [
    "11. There are some following built-in functions in python-\n",
    "    i) type() :- It returns the datatype of a  variable.\n",
    "    ii) len() :- It returns the size of a list, tupple, set, string, etc\n",
    "    iii) sum() :- It sums the items of a iterator\n",
    "    iv) index() :- It returns the item on the given (argument) position.\n",
    "    v) bin() :- returns the binary version of a number.etc."
   ]
  },
  {
   "cell_type": "code",
   "execution_count": null,
   "id": "8d26e410-db1e-44c1-b625-b29c1ad4f0db",
   "metadata": {},
   "outputs": [],
   "source": [
    "12. An identifier can have maximum length of 79 Characters."
   ]
  },
  {
   "cell_type": "code",
   "execution_count": null,
   "id": "430a585c-7497-41f7-b9e2-af7c6159d6eb",
   "metadata": {},
   "outputs": [],
   "source": [
    "13. Benefits of using Python - \n",
    "    i) Simple to use and understand : Python is simple to understand and use as well as for new comers. It is highly developed with English-like Syntax.\n",
    "    ii) Free and Open-source : Python is distributed under an open-source license approved by the Open-Source Initiative (OSI).\n",
    "    iii) Interpreted Language ; It is an interpreted language, implying that the code is implemented line by line. This is one of the features that makes it simple to use. In the event of an error, it halts the process and reports the problem. \n",
    "        Python only shows one error, even if the program has multiple errors. This makes debugging easier.\n",
    "    iv) Extensive Library : Python includes a huge number of libraries that the user can use.\n",
    "    v) Dynamically Typed : It allocates the data type automatically during execution. Variables and their data types do not need to be declared by the programmer.\n",
    "    vi) Portability : It only needs to be written once, and then it can be run anywhere. However, the user should avoid involving any system-dependent features."
   ]
  },
  {
   "cell_type": "code",
   "execution_count": null,
   "id": "fb3647aa-0a8e-405b-b027-654945de6be4",
   "metadata": {},
   "outputs": [],
   "source": [
    "14. Memory management in Python is done automatically with the Garbage Collector and Reference counter. User does not have to do garbage collection.\n",
    "    Garbage Collection :- Garbage collection is the process in which the interpreter frees up the memory when not in use and make it available for other objects.\n",
    "    Reference Counting :- Reference counting works by counting the number of times an object is referenced by other objects in the system. When references to an object are removed, the reference count for an object is decremented. \n",
    "                          When the reference count becomes zero, the object is deallocated."
   ]
  },
  {
   "cell_type": "code",
   "execution_count": null,
   "id": "8a5f617f-fcbc-4285-aa7e-f0e6bbb756b3",
   "metadata": {},
   "outputs": [],
   "source": [
    "15. Steps for installing python on Windows - \n",
    "    Step I :- Open a browser and browse to Python official website. Navigate to downloads section.\n",
    "    Step II :- Choose windows installer and download it. Wait for downloading successfully.\n",
    "    Step III :- Double-click the installation file and install Python for all users and click on install now to begin.\n",
    "    Step IV :- After installation disable path length limit then close.\n",
    "    Step V :- click on Close to end tha installation.\n",
    "    \n",
    "    Steps for Setting path variable -\n",
    "    Step I :- Navigate to Python core file and copy the directory.\n",
    "    Step II :- Right click on This PC and select properties.\n",
    "    Step III :- Click on Advanced setting in the menu then go to Environment Variables.\n",
    "    Step IV :- In the System variables section, selecting the Path variable and clicking on Edit. The next screen will show all the directories that are currently a part of the PATH variable.\n",
    "    Step V :- Click on new and paste the Python directory that you've copied.\n",
    "    Step VI :- Close everything one by one.\n",
    "    Step VII :- Restart the Computer (Recommended)."
   ]
  },
  {
   "cell_type": "code",
   "execution_count": null,
   "id": "ed91cdc7-d982-4675-baa2-df88234b3637",
   "metadata": {},
   "outputs": [],
   "source": [
    "16. Yes, as Python uses indentation to indicate the block of codes, Indentation is required."
   ]
  }
 ],
 "metadata": {
  "kernelspec": {
   "display_name": "Python 3 (ipykernel)",
   "language": "python",
   "name": "python3"
  },
  "language_info": {
   "codemirror_mode": {
    "name": "ipython",
    "version": 3
   },
   "file_extension": ".py",
   "mimetype": "text/x-python",
   "name": "python",
   "nbconvert_exporter": "python",
   "pygments_lexer": "ipython3",
   "version": "3.10.8"
  }
 },
 "nbformat": 4,
 "nbformat_minor": 5
}
